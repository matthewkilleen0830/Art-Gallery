{
 "cells": [
  {
   "cell_type": "markdown",
   "metadata": {},
   "source": [
    "# Marty Stouffer Wildlife Art Gallery\n",
    "\n",
    "Sales and Marketing Analysis (Q1 2021)\\\n",
    "(Actual sales data used; names have been changed to protect confidentiality)"
   ]
  },
  {
   "cell_type": "code",
   "execution_count": null,
   "metadata": {},
   "outputs": [],
   "source": [
    "# Dependencies and setup\n",
    "import os\n",
    "from pathlib import Path\n",
    "import pandas as pd\n",
    "import numpy as np\n",
    "import matplotlib.pyplot as plt\n",
    "import scipy.stats as st\n",
    "from scipy.stats import linregress\n",
    "import chardet\n",
    "import gmaps"
   ]
  },
  {
   "cell_type": "code",
   "execution_count": null,
   "metadata": {},
   "outputs": [],
   "source": [
    "# This is where the sales and orders data .CSV lives locally...:\n",
    "ordersDataFilepath = \"Data/heatmap_orders.csv\"\n",
    "\n",
    "print(f\"{ordersDataFilepath} is {round(os.path.getsize(ordersDataFilepath)/1024/1024, 2)} megabytes (MB).\")"
   ]
  },
  {
   "cell_type": "code",
   "execution_count": null,
   "metadata": {},
   "outputs": [],
   "source": [
    "# Read CSV into orderData DataFrame\n",
    "ordersData_df = pd.read_csv(ordersDataFilepath, encoding = \"iso-8859-1\")\n",
    "ordersData_df"
   ]
  },
  {
   "cell_type": "code",
   "execution_count": null,
   "metadata": {},
   "outputs": [],
   "source": [
    "# This is where the city lat/lng data .CSV lives locally...:\n",
    "citiesDataFilepath = \"Data/heatmap_cities.csv\"\n",
    "\n",
    "print(f\"{citiesDataFilepath} is {round(os.path.getsize(citiesDataFilepath)/1024/1024, 2)} megabytes (MB).\")"
   ]
  },
  {
   "cell_type": "code",
   "execution_count": null,
   "metadata": {},
   "outputs": [],
   "source": [
    "# Read CSV into citiesData DataFrame\n",
    "citiesData_df = pd.read_csv(citiesDataFilepath, encoding = \"iso-8859-1\")\n",
    "citiesData_df"
   ]
  },
  {
   "cell_type": "code",
   "execution_count": null,
   "metadata": {},
   "outputs": [],
   "source": [
    "# Merge ordersData and citiesData DataFrames\n",
    "mergedData_df = pd.merge(ordersData_df, citiesData_df, how = \"outer\", on = [\"city\", \"state_id\"], sort = False, copy = False, indicator = False, validate = None)\n",
    "mergedData_df"
   ]
  },
  {
   "cell_type": "code",
   "execution_count": null,
   "metadata": {},
   "outputs": [],
   "source": [
    "# Remove city rows with no sales\n",
    "mergedData_df = mergedData_df[mergedData_df[\"Subtotal_x\"].notna()]\n",
    "mergedData_df"
   ]
  },
  {
   "cell_type": "code",
   "execution_count": null,
   "metadata": {},
   "outputs": [],
   "source": [
    "# Drop irrelevant columns\n",
    "mergedData_df.drop(columns = [\"Subtotal_y\", \"city_ascii\"], inplace = True)\n",
    "mergedData_df"
   ]
  },
  {
   "cell_type": "code",
   "execution_count": null,
   "metadata": {},
   "outputs": [],
   "source": [
    "# Rename columns to clean up DataFrame\n",
    "mergedData_df = mergedData_df.rename(columns = {\"Subtotal_x\":\"Subtotal\", \"city\":\"City\", \"state_id\":\"State\", \"lat\":\"Latitude\",\n",
    "                                                \"lng\":\"Longitude\"})\n",
    "mergedData_df"
   ]
  },
  {
   "cell_type": "code",
   "execution_count": null,
   "metadata": {},
   "outputs": [],
   "source": [
    "# Export to CSV\n",
    "mergedData_df.to_csv(\"ordersData_byLocation.csv\", index = False, header = True)"
   ]
  },
  {
   "cell_type": "markdown",
   "metadata": {},
   "source": [
    "# Gross Sales Revenues by State\n",
    "(Q1 2021)"
   ]
  },
  {
   "cell_type": "markdown",
   "metadata": {},
   "source": [
    "### Key Points:\n",
    "1. Cleaned orders CSV removed 45 orders from Australia/Canada/Fiji/Great Britain totaling \\\\$9,831.12 (4.83\\% of period sales).\n",
    "2. Cleaned orders CSV removed 21 orders that were fully refunded totaling \\\\$3,610.69.\n",
    "3. Result is \\\\$193,936.50 total period sales analyzed."
   ]
  },
  {
   "cell_type": "code",
   "execution_count": null,
   "metadata": {},
   "outputs": [],
   "source": [
    "# Groupby state\n",
    "state_df = mergedData_df.groupby([\"State\"])\n",
    "\n",
    "# Create variable to calculate subtotals by state\n",
    "sales = state_df[\"Subtotal\"].sum()\n",
    "\n",
    "# Create new DataFrame to summarize sales by state\n",
    "stateSummary_df = pd.DataFrame({\"Subtotal\":(sales)})\n",
    "stateSummary_df.head()"
   ]
  },
  {
   "cell_type": "code",
   "execution_count": null,
   "metadata": {},
   "outputs": [],
   "source": [
    "# Reset DataFrame index in place\n",
    "stateSummary_df.reset_index(inplace = True)\n",
    "stateSummary_df.head()"
   ]
  },
  {
   "cell_type": "code",
   "execution_count": null,
   "metadata": {},
   "outputs": [],
   "source": [
    "# Create bar plot illustrating total sales by state\n",
    "\n",
    "# Create variables for x and y values\n",
    "state_x = stateSummary_df[\"State\"]\n",
    "state_y = stateSummary_df[\"Subtotal\"]\n",
    "\n",
    "# Define bar plot size\n",
    "plt.figure(figsize = (18,10))\n",
    "\n",
    "# Pass values into bar plot, and define color and transparency\n",
    "plt.bar(state_x, state_y, color = \"green\", alpha = 0.43)\n",
    "\n",
    "# Define bar plot title, x label, and y label (and their font sizes)\n",
    "plt.title(\"Gross Sales Revenue by State\", fontsize = 18)\n",
    "plt.xlabel(\"State\", fontsize = 14)\n",
    "plt.ylabel(\"Total Sales ($)\", fontsize = 14)\n",
    "\n",
    "# Print pyplot bar plot to image file\n",
    "plt.savefig(\"Images/Sales_by_State_Bar_Plot.jpg\")\n",
    "\n",
    "plt.show()"
   ]
  },
  {
   "cell_type": "markdown",
   "metadata": {},
   "source": [
    "# Gross Sales Revenues by Geographic Area (HeatMap)\n",
    "(Q1 2021)"
   ]
  },
  {
   "cell_type": "code",
   "execution_count": null,
   "metadata": {},
   "outputs": [],
   "source": [
    "# Import API key\n",
    "from api_keys import g_key\n",
    "\n",
    "# Access maps with unique API key\n",
    "gmaps.configure(api_key = g_key)"
   ]
  },
  {
   "cell_type": "code",
   "execution_count": null,
   "metadata": {},
   "outputs": [],
   "source": [
    "# Create heatmap for sales revenues by city location\n",
    "\n",
    "# Store latitude and longitude in locations\n",
    "locations = mergedData_df[[\"Latitude\", \"Longitude\"]]\n",
    "\n",
    "# Store sales revenues in weights\n",
    "weights = mergedData_df[\"Subtotal\"]\n",
    "\n",
    "# Plot Heatmap (U.S. geographic center is 39.8333, -98.5855)\n",
    "fig = gmaps.figure(zoom_level = 4.1, center = (37.8, -98.6))\n",
    "\n",
    "# Set max intensity to highest sales revenue found in the dataset\n",
    "max_intensity = mergedData_df[\"Subtotal\"].max()\n",
    "\n",
    "# Create heat layer\n",
    "heat_layer = gmaps.heatmap_layer(locations, weights = weights, \n",
    "                                 dissipating = False, max_intensity = max_intensity,\n",
    "                                 point_radius = 1, gradient = [\"white\", \"blue\", \"yellow\", \"red\"])\n",
    "\n",
    "\n",
    "\n",
    "# Add layer\n",
    "fig.add_layer(heat_layer)\n",
    "\n",
    "# Display figure\n",
    "fig"
   ]
  },
  {
   "cell_type": "markdown",
   "metadata": {},
   "source": [
    "# Quartiles, Outliers, and Boxplots\n",
    "(Q1 2021)"
   ]
  },
  {
   "cell_type": "markdown",
   "metadata": {},
   "source": [
    "### Key Points:\n",
    "1. Cleaned marketing CSV removed 21 orders that were fully refunded totaling \\\\$3,610.69.\n",
    "2. Result is \\\\$203,412.13 total period sales analyzed."
   ]
  },
  {
   "cell_type": "code",
   "execution_count": null,
   "metadata": {},
   "outputs": [],
   "source": [
    "# This is where the marketing data .CSV lives locally...:\n",
    "marketingDataFilepath = \"Data/cleaned_marketing.csv\"\n",
    "\n",
    "print(f\"{marketingDataFilepath} is {round(os.path.getsize(marketingDataFilepath)/1024/1024, 2)} megabytes (MB).\")"
   ]
  },
  {
   "cell_type": "code",
   "execution_count": null,
   "metadata": {},
   "outputs": [],
   "source": [
    "# Read CSV into marketingData DataFrame\n",
    "marketingData_df = pd.read_csv(marketingDataFilepath, encoding = \"iso-8859-1\")\n",
    "marketingData_df"
   ]
  },
  {
   "cell_type": "code",
   "execution_count": null,
   "metadata": {},
   "outputs": [],
   "source": [
    "# Put answers into a list for for loop (and later for plot labels)\n",
    "marketingList = [\"No\", \"Yes\"]\n",
    "\n",
    "# Create empty list to fill with sales data (for plotting)\n",
    "salesData = []\n",
    "\n",
    "# Locate the rows which contain sales for each answer and get the sale amounts\n",
    "for row in marketingList:\n",
    "    sales_df = marketingData_df.loc[marketingData_df[\"Accepts Marketing\"] == row]\n",
    "    \n",
    "    # Append list with sale amounts\n",
    "    sale = sales_df[\"Subtotal\"]\n",
    "    salesData.append(sale)\n",
    "\n",
    "    # Calculate the IQR and quartiles \n",
    "    quartiles = sale.quantile([0.25, 0.50, 0.75])\n",
    "    lowerq = quartiles[0.25]\n",
    "    medianq = quartiles[0.50]\n",
    "    upperq = quartiles[0.75]\n",
    "    iqr = upperq - lowerq\n",
    "\n",
    "    # Print results to the display\n",
    "    print(f\"The lower quartile for those who answered {row} is:  {lowerq}.\")\n",
    "    print(f\"The median value for those who answered {row} is:  {medianq}.\")\n",
    "    print(f\"The upper quartile for those who answered {row} is:  {upperq}.\")\n",
    "    print(f\"The interquartile range for those who answered {row} is:  {iqr}.\")\n",
    "    \n",
    "    # Quantively determine outliers using upper and lower bounds and print to the display\n",
    "    lower_bound = lowerq - (1.5 * iqr)\n",
    "    upper_bound = upperq + (1.5 * iqr)\n",
    "    print(f\"Values below {lower_bound} could be outliers.\")\n",
    "    print(f\"Values above {upper_bound} could be outliers.\")\n",
    "    print(\"---------------------------------------------------------------\")"
   ]
  },
  {
   "cell_type": "code",
   "execution_count": null,
   "metadata": {},
   "outputs": [],
   "source": [
    "# Generate box plots of the sale amounts across yes or no to marketing list\n",
    "outlier = dict(marker = \"o\", markerfacecolor = \"red\", markersize = 6, markeredgecolor = \"black\")\n",
    "\n",
    "# Define box plot size\n",
    "plt.figure(figsize = (18,16))\n",
    "\n",
    "# Define box plot values and outlier\n",
    "plt.boxplot(salesData, labels = marketingList, flierprops = outlier)\n",
    "\n",
    "# Define box plot title, y label, x label, and x tick labels\n",
    "plt.title(\"Ranges of Sale Amounts per Marketing List\", fontsize = 18)\n",
    "plt.ylabel(\"Sale Amounts ($)\", fontsize = 14)\n",
    "plt.xlabel(\"On Marketing List?\", fontsize = 14)\n",
    "plt.xticks(fontsize = 14)\n",
    "\n",
    "plt.grid(axis = \"x\", linewidth = 0.5)\n",
    "plt.grid(axis = \"y\", linewidth = 0.5)\n",
    "\n",
    "# Print box plot to image file\n",
    "plt.savefig(\"Images/Sale_Amounts_by_Marketing.jpg\")\n",
    "\n",
    "plt.show()"
   ]
  },
  {
   "cell_type": "markdown",
   "metadata": {},
   "source": [
    "# Gross Sales Revenue vs. Marketing\n",
    "(Q1 2021)"
   ]
  },
  {
   "cell_type": "code",
   "execution_count": null,
   "metadata": {},
   "outputs": [],
   "source": [
    "# Do those on the marketing list result in higher sales?\n",
    "\n",
    "# Retrieve marketing list and sales data\n",
    "marketing = marketingData_df[\"Marketing Score\"]\n",
    "sales = marketingData_df[\"Subtotal\"]\n",
    "n = len(marketingData_df)\n",
    "\n",
    "# Perform a linear regression on marketing list versus sales\n",
    "slope, int, r, p, std_err = st.linregress(marketing, sales)\n",
    "\n",
    "# Create equation of line to calculate predicted sales\n",
    "fit = slope * marketing + int\n",
    "\n",
    "# Create equation in string formats to print on scatter plot\n",
    "equation = \"y = \" + str(round(slope, 2)) + \"x + \" + str(round(int, 2))\n",
    "\n",
    "# Define scatter plot size\n",
    "plt.figure(figsize = (18, 10))\n",
    "\n",
    "# Plot x and y values on scatter plot\n",
    "plt.scatter(marketing, sales, marker = \".\", color = \"black\")\n",
    "\n",
    "# Plot linear regression line on scatter plot\n",
    "plt.plot(marketing, fit, \"--\", color = \"red\")\n",
    "\n",
    "# Define linear regression line and print on scatter plot\n",
    "plt.annotate(equation, (0.22, 350), fontsize = 14, color = \"red\")\n",
    "\n",
    "# Define scatter plot title date, and x and y labels (and their font sizes)\n",
    "\n",
    "plt.title(f\"Gross Sales vs. Marketing List\", fontsize = 18)\n",
    "plt.xlabel(\"On Marketing List?  (0 = No, 1 = Yes)\", fontsize = 14)\n",
    "plt.ylabel(\"Sale Amounts ($)\", fontsize = 14)\n",
    "plt.grid(axis = \"x\", linewidth = 0.5)\n",
    "plt.grid(axis = \"y\", linewidth = 0.5)\n",
    "\n",
    "print(f\"The r-value is: {r}\")\n",
    "\n",
    "# Print scatterplot to image file\n",
    "# plt.savefig(\"Images/Sales_vs_Marketing_Scatterplot.png\")\n",
    "\n",
    "plt.show()"
   ]
  },
  {
   "cell_type": "markdown",
   "metadata": {},
   "source": [
    "# Total Sales Revenue per Marketing List\n",
    "(Q1 2021)"
   ]
  },
  {
   "cell_type": "code",
   "execution_count": null,
   "metadata": {},
   "outputs": [],
   "source": [
    "# Group by marketing list and calculate total sales\n",
    "total_sale = marketingData_df.groupby(\"Accepts Marketing\").sum().round(2)\n",
    "total_sale"
   ]
  },
  {
   "cell_type": "code",
   "execution_count": null,
   "metadata": {},
   "outputs": [],
   "source": [
    "# Drop irrelevant columns\n",
    "total_sale.drop(columns = [\"Marketing Score\"], inplace = True)\n",
    "total_sale"
   ]
  },
  {
   "cell_type": "code",
   "execution_count": null,
   "metadata": {},
   "outputs": [],
   "source": [
    "# Rename columns to clean up DataFrame\n",
    "total_sale = total_sale.rename(columns = {\"Subtotal\":\"Total Sales\"})\n",
    "total_sale"
   ]
  },
  {
   "cell_type": "code",
   "execution_count": null,
   "metadata": {},
   "outputs": [],
   "source": [
    "# Declare variables to retrieve and store values for plotting\n",
    "x_total = total_sale.index\n",
    "y_total = total_sale[\"Total Sales\"]\n",
    "\n",
    "# Define colors for each bar\n",
    "colors = [\"red\", \"green\"]\n",
    "\n",
    "# Define bar plot size\n",
    "plt.figure(figsize = (18,10))\n",
    "\n",
    "# Pass values into bar plot, and define color and transparency\n",
    "plt.bar(x_total, y_total, color = colors, alpha = 0.43)\n",
    "\n",
    "# Define bar plot title, x label, and y label (and their font sizes)\n",
    "plt.title(\"Total Sales Revenue per Marketing List\", fontsize = 18)\n",
    "plt.xlabel(\"On Marketing List?\", fontsize = 14)\n",
    "plt.ylabel(\"Total Sales ($)\", fontsize = 14)\n",
    "plt.ylim(0,200000)\n",
    "\n",
    "# Print results to the display\n",
    "print(f\"Total Sales per {y_total}\")\n",
    "\n",
    "# Print pyplot bar plot to image file\n",
    "plt.savefig(\"Images/Total_Sales_by_Marketing_Bar_Plot.jpg\")\n",
    "\n",
    "plt.show()"
   ]
  },
  {
   "cell_type": "markdown",
   "metadata": {},
   "source": [
    "# Average Sale Revenue per Marketing List\n",
    "(Q1 2021)"
   ]
  },
  {
   "cell_type": "code",
   "execution_count": null,
   "metadata": {},
   "outputs": [],
   "source": [
    "# Group by marketing list and calculate average sale\n",
    "average_sale = marketingData_df.groupby(\"Accepts Marketing\").mean().round(2)\n",
    "average_sale"
   ]
  },
  {
   "cell_type": "code",
   "execution_count": null,
   "metadata": {},
   "outputs": [],
   "source": [
    "# Drop irrelevant columns\n",
    "average_sale.drop(columns = [\"Marketing Score\"], inplace = True)\n",
    "average_sale"
   ]
  },
  {
   "cell_type": "code",
   "execution_count": null,
   "metadata": {},
   "outputs": [],
   "source": [
    "# Rename columns to clean up DataFrame\n",
    "average_sale = average_sale.rename(columns = {\"Subtotal\":\"Average Sale\"})\n",
    "average_sale"
   ]
  },
  {
   "cell_type": "code",
   "execution_count": null,
   "metadata": {},
   "outputs": [],
   "source": [
    "# Declare variables to retrieve and store values for plotting\n",
    "x_avg = average_sale.index\n",
    "y_avg = average_sale[\"Average Sale\"]\n",
    "\n",
    "# Define colors for each bar\n",
    "colors = [\"red\", \"green\"]\n",
    "\n",
    "# Define bar plot size\n",
    "plt.figure(figsize = (18,10))\n",
    "\n",
    "# Pass values into bar plot, and define color and transparency\n",
    "plt.bar(x_avg, y_avg, color = colors, alpha = 0.43)\n",
    "\n",
    "# Define bar plot title, x label, and y label (and their font sizes)\n",
    "plt.title(\"Average Sales Revenue per Marketing List\", fontsize = 18)\n",
    "plt.xlabel(\"On Marketing List?\", fontsize = 14)\n",
    "plt.ylabel(\"Average Sale ($)\", fontsize = 14)\n",
    "plt.ylim(0,300)\n",
    "\n",
    "# Print results to the display\n",
    "print(f\"Average Sales per {y_avg}\")\n",
    "\n",
    "# Print pyplot bar plot to image file\n",
    "plt.savefig(\"Images/Avg_Sales_by_Marketing_Bar_Plot.jpg\")\n",
    "\n",
    "plt.show()"
   ]
  },
  {
   "cell_type": "markdown",
   "metadata": {},
   "source": [
    "# Conclusions\n",
    "1. Increase Search Engine Optimization (SEO) for wildlife art searches in areas east of the Mississippi River.\n",
    "2. Total sales are roughly 3X higher for those on the marketing list over those who are not (possibly due to large outliers)."
   ]
  },
  {
   "cell_type": "code",
   "execution_count": null,
   "metadata": {},
   "outputs": [],
   "source": []
  }
 ],
 "metadata": {
  "kernelspec": {
   "display_name": "Python 3",
   "language": "python",
   "name": "python3"
  },
  "language_info": {
   "codemirror_mode": {
    "name": "ipython",
    "version": 3
   },
   "file_extension": ".py",
   "mimetype": "text/x-python",
   "name": "python",
   "nbconvert_exporter": "python",
   "pygments_lexer": "ipython3",
   "version": "3.6.10"
  }
 },
 "nbformat": 4,
 "nbformat_minor": 4
}
